{
 "cells": [
  {
   "cell_type": "code",
   "execution_count": 1,
   "metadata": {},
   "outputs": [],
   "source": [
    "import pandas as pd\n",
    "import numpy as np\n"
   ]
  },
  {
   "cell_type": "code",
   "execution_count": 2,
   "metadata": {},
   "outputs": [],
   "source": [
    "freshDatafrme_knnimputed=pd.read_csv(\"freshDatafrme_knnimputed.csv\");"
   ]
  },
  {
   "cell_type": "code",
   "execution_count": 3,
   "metadata": {},
   "outputs": [],
   "source": [
    "Real_Estate=pd.read_csv(\"train.csv\");"
   ]
  },
  {
   "cell_type": "code",
   "execution_count": 4,
   "metadata": {},
   "outputs": [],
   "source": [
    "# Real_Estate_test=pd.read_csv(\"test.csv\");"
   ]
  },
  {
   "cell_type": "code",
   "execution_count": 5,
   "metadata": {},
   "outputs": [],
   "source": [
    "\n",
    "freshDatafrme_knnimputed['Bad_debt']=freshDatafrme_knnimputed['second_mortgage'] + freshDatafrme_knnimputed['home_equity'] - freshDatafrme_knnimputed['home_equity_second_mortgage']"
   ]
  },
  {
   "cell_type": "code",
   "execution_count": 6,
   "metadata": {},
   "outputs": [],
   "source": [
    "freshDatafrme_knnimputed['good_debt']=freshDatafrme_knnimputed['debt']-freshDatafrme_knnimputed['Bad_debt']"
   ]
  },
  {
   "cell_type": "code",
   "execution_count": 7,
   "metadata": {},
   "outputs": [],
   "source": [
    "freshDatafrme_knnimputed['pop_density']=np.divide(freshDatafrme_knnimputed['pop'] , ((freshDatafrme_knnimputed['ALand'] * 9.290304) /2.59e+6) ) "
   ]
  },
  {
   "cell_type": "code",
   "execution_count": 8,
   "metadata": {},
   "outputs": [
    {
     "data": {
      "text/plain": [
       "0        2.100197e+06\n",
       "1        2.202618e+06\n",
       "2       -7.071049e+06\n",
       "3        2.107911e+06\n",
       "4       -1.722305e+06\n",
       "             ...     \n",
       "27156    3.204551e+06\n",
       "27157    2.269850e+05\n",
       "27158   -2.097044e+05\n",
       "27159   -1.083999e+07\n",
       "27160    8.191396e+05\n",
       "Name: pop_density, Length: 27161, dtype: float64"
      ]
     },
     "execution_count": 8,
     "metadata": {},
     "output_type": "execute_result"
    }
   ],
   "source": [
    "freshDatafrme_knnimputed['pop_density']"
   ]
  },
  {
   "cell_type": "code",
   "execution_count": 9,
   "metadata": {},
   "outputs": [
    {
     "data": {
      "text/plain": [
       "0       -0.523053\n",
       "1        0.827876\n",
       "2        0.821184\n",
       "3        0.733329\n",
       "4        0.171677\n",
       "           ...   \n",
       "27156   -1.795324\n",
       "27157   -1.533888\n",
       "27158    0.121820\n",
       "27159   -0.484753\n",
       "27160   -0.943092\n",
       "Name: good_debt, Length: 27161, dtype: float64"
      ]
     },
     "execution_count": 9,
     "metadata": {},
     "output_type": "execute_result"
    }
   ],
   "source": [
    "freshDatafrme_knnimputed['good_debt']"
   ]
  },
  {
   "cell_type": "code",
   "execution_count": 10,
   "metadata": {},
   "outputs": [
    {
     "data": {
      "text/plain": [
       "(27161, 74)"
      ]
     },
     "execution_count": 10,
     "metadata": {},
     "output_type": "execute_result"
    }
   ],
   "source": [
    "freshDatafrme_knnimputed.shape"
   ]
  },
  {
   "cell_type": "code",
   "execution_count": 11,
   "metadata": {},
   "outputs": [],
   "source": [
    "train_data=freshDatafrme_knnimputed.drop([\n",
    "                   'hs_degree','hs_degree_male',\n",
    "                   'hs_degree_female',\n",
    "                   'male_age_mean','male_age_median','male_age_stdev',\n",
    "                   'female_age_mean',\n",
    "                   'female_age_median','female_age_stdev',\n",
    "                   'home_equity_second_mortgage','second_mortgage','debt',\n",
    "                   'debt_cdf','male_pop','female_pop'],axis=1)"
   ]
  },
  {
   "cell_type": "code",
   "execution_count": 12,
   "metadata": {},
   "outputs": [],
   "source": [
    " from sklearn.preprocessing import StandardScaler"
   ]
  },
  {
   "cell_type": "code",
   "execution_count": 13,
   "metadata": {},
   "outputs": [
    {
     "data": {
      "text/plain": [
       "(27161, 74)"
      ]
     },
     "execution_count": 13,
     "metadata": {},
     "output_type": "execute_result"
    }
   ],
   "source": [
    "freshDatafrme_knnimputed.shape"
   ]
  },
  {
   "cell_type": "code",
   "execution_count": 14,
   "metadata": {},
   "outputs": [],
   "source": [
    "freshDatafrme_knnimputed['state']=Real_Estate['state']\n",
    "freshDatafrme_knnimputed['city']=Real_Estate['city']\n",
    "freshDatafrme_knnimputed['place']=Real_Estate['place']\n",
    "freshDatafrme_knnimputed['type']=Real_Estate['type']\n",
    "\n",
    "freshDatafrme_knnimputed=freshDatafrme_knnimputed.drop([\n",
    "                   'hs_degree','hs_degree_male',\n",
    "                   'hs_degree_female',\n",
    "                   'male_age_mean','male_age_median','male_age_stdev',\n",
    "                   'female_age_mean',\n",
    "                   'female_age_median','female_age_stdev',\n",
    "                   'home_equity_second_mortgage',\n",
    "                   'debt_cdf','Bad_debt','male_pop','female_pop'],axis=1)\n"
   ]
  },
  {
   "cell_type": "code",
   "execution_count": 15,
   "metadata": {},
   "outputs": [],
   "source": [
    "train=freshDatafrme_knnimputed.copy()"
   ]
  },
  {
   "cell_type": "code",
   "execution_count": 16,
   "metadata": {},
   "outputs": [],
   "source": [
    "from sklearn.preprocessing import LabelEncoder\n",
    "\n",
    "# %% [code]\n",
    "lb=LabelEncoder()"
   ]
  },
  {
   "cell_type": "code",
   "execution_count": 17,
   "metadata": {},
   "outputs": [],
   "source": [
    "# train['type']=lb.fit_transform(train['type'])\n",
    "train['type'].unique()\n",
    "types_dictonary={'type':{'City':1, \n",
    "                   'Urban':2, \n",
    "                   'Town':3, \n",
    "                   'CDP':4, \n",
    "                   'Village':5, \n",
    "                   'Borough':6}\n",
    "          }\n",
    "train.replace(types_dictonary,inplace=True)"
   ]
  },
  {
   "cell_type": "code",
   "execution_count": 18,
   "metadata": {},
   "outputs": [],
   "source": [
    "train['state']=lb.fit_transform(train['state'])\n",
    "train['city']=lb.fit_transform(train['city'])\n",
    "train['place']=lb.fit_transform(train['place'])\n",
    "# train['type']=lb.fit_transform(train['type'])"
   ]
  },
  {
   "cell_type": "code",
   "execution_count": 19,
   "metadata": {},
   "outputs": [],
   "source": [
    "# train['state'].unique()"
   ]
  },
  {
   "cell_type": "code",
   "execution_count": 20,
   "metadata": {},
   "outputs": [
    {
     "data": {
      "text/plain": [
       "Index(['COUNTYID', 'STATEID', 'zip_code', 'area_code', 'lat', 'lng', 'ALand',\n",
       "       'AWater', 'pop', 'rent_mean', 'rent_median', 'rent_stdev',\n",
       "       'rent_sample_weight', 'rent_samples', 'rent_gt_10', 'rent_gt_15',\n",
       "       'rent_gt_20', 'rent_gt_25', 'rent_gt_30', 'rent_gt_35', 'rent_gt_40',\n",
       "       'rent_gt_50', 'universe_samples', 'used_samples', 'hi_mean',\n",
       "       'hi_median', 'hi_stdev', 'hi_sample_weight', 'hi_samples',\n",
       "       'family_mean', 'family_median', 'family_stdev', 'family_sample_weight',\n",
       "       'family_samples', 'hc_mortgage_mean', 'hc_mortgage_median',\n",
       "       'hc_mortgage_stdev', 'hc_mortgage_sample_weight', 'hc_mortgage_samples',\n",
       "       'hc_mean', 'hc_median', 'hc_stdev', 'hc_samples', 'hc_sample_weight',\n",
       "       'second_mortgage', 'home_equity', 'debt', 'second_mortgage_cdf',\n",
       "       'home_equity_cdf', 'male_age_sample_weight', 'male_age_samples',\n",
       "       'female_age_sample_weight', 'female_age_samples', 'pct_own', 'married',\n",
       "       'married_snp', 'separated', 'divorced', 'good_debt', 'pop_density',\n",
       "       'state', 'city', 'place', 'type'],\n",
       "      dtype='object')"
      ]
     },
     "execution_count": 20,
     "metadata": {},
     "output_type": "execute_result"
    }
   ],
   "source": [
    "train.columns"
   ]
  },
  {
   "cell_type": "code",
   "execution_count": 23,
   "metadata": {},
   "outputs": [],
   "source": [
    "new_columns=['type','state','pop','debt','rent_mean','hi_mean','family_mean','hc_mean','home_equity','second_mortgage','pct_own']\n",
    "\n",
    "\n",
    "\n",
    "        "
   ]
  },
  {
   "cell_type": "code",
   "execution_count": 24,
   "metadata": {},
   "outputs": [],
   "source": [
    "new_X=train[new_columns]"
   ]
  },
  {
   "cell_type": "code",
   "execution_count": null,
   "metadata": {},
   "outputs": [],
   "source": [
    "# Real_Estate['home_equity'].head()"
   ]
  },
  {
   "cell_type": "code",
   "execution_count": null,
   "metadata": {},
   "outputs": [],
   "source": [
    "Real_Estate['second_mortgage'].describe()"
   ]
  },
  {
   "cell_type": "code",
   "execution_count": 25,
   "metadata": {},
   "outputs": [],
   "source": [
    "from sklearn.model_selection import train_test_split\n",
    "from sklearn.metrics import r2_score"
   ]
  },
  {
   "cell_type": "code",
   "execution_count": 26,
   "metadata": {},
   "outputs": [],
   "source": [
    "y_dt=pd.read_csv(\"y_dataframe.csv\");"
   ]
  },
  {
   "cell_type": "code",
   "execution_count": 27,
   "metadata": {},
   "outputs": [],
   "source": [
    "y=y_dt['hc_mortgage_mean']"
   ]
  },
  {
   "cell_type": "code",
   "execution_count": null,
   "metadata": {},
   "outputs": [],
   "source": [
    "x=train.drop('hc_mortgage_mean',axis=1)"
   ]
  },
  {
   "cell_type": "code",
   "execution_count": 28,
   "metadata": {},
   "outputs": [],
   "source": [
    "X_new_train, X_new_test, y_train, y_test = train_test_split(new_X, y, test_size=0.33, random_state=42)"
   ]
  },
  {
   "cell_type": "code",
   "execution_count": null,
   "metadata": {},
   "outputs": [],
   "source": [
    "# X_train, X_test, y_train, y_test = train_test_split(x, y, test_size=0.33, random_state=42)"
   ]
  },
  {
   "cell_type": "code",
   "execution_count": 29,
   "metadata": {},
   "outputs": [],
   "source": [
    "from sklearn.linear_model import LinearRegression\n",
    "lr=LinearRegression()"
   ]
  },
  {
   "cell_type": "code",
   "execution_count": 30,
   "metadata": {},
   "outputs": [],
   "source": [
    "from sklearn.tree import DecisionTreeRegressor\n",
    "Decison_R=DecisionTreeRegressor()"
   ]
  },
  {
   "cell_type": "code",
   "execution_count": null,
   "metadata": {},
   "outputs": [],
   "source": [
    "#Model evualtuion phase it will evaluate the regression model we have build \n",
    "\n",
    "#For regression models there are three metrics most popularly used to evaulate the models \n",
    "\n",
    "#1.RSquare:IT checks for the variability in the dependent variable of the data...\n",
    "#the value ranges between 0 - 1.the higher the value the better the model\n",
    "\n",
    "#2.Adjusted-RSquare:Sometimes when there are many varibles in the dataset the \n",
    "#RSquare show biasness towards the value of the Rsquare metrics increses so the Adjusted_Rsqure \n",
    "#penelzes the dataset with many independent variable\n"
   ]
  },
  {
   "cell_type": "code",
   "execution_count": 31,
   "metadata": {},
   "outputs": [
    {
     "data": {
      "text/plain": [
       "0.6478743420122481"
      ]
     },
     "execution_count": 31,
     "metadata": {},
     "output_type": "execute_result"
    }
   ],
   "source": [
    "Decison_R.fit(X_new_train,y_train)\n",
    "\n",
    "# %% [code]\n",
    "ypredict_DEcsion=Decison_R.predict(X_new_test)\n",
    "\n",
    "# %% [code]\n",
    "r2_score(y_test,ypredict_DEcsion)"
   ]
  },
  {
   "cell_type": "code",
   "execution_count": 32,
   "metadata": {},
   "outputs": [
    {
     "data": {
      "text/plain": [
       "0.8019242072686796"
      ]
     },
     "execution_count": 32,
     "metadata": {},
     "output_type": "execute_result"
    }
   ],
   "source": [
    "lr.fit(X_new_train,y_train)\n",
    "\n",
    "# %% [code]\n",
    "ypredict=lr.predict(X_new_test)\n",
    "\n",
    "# %% [code]\n",
    "r2_score(y_test,ypredict)"
   ]
  },
  {
   "cell_type": "code",
   "execution_count": 34,
   "metadata": {},
   "outputs": [],
   "source": [
    "\n",
    "from sklearn.metrics import mean_squared_error"
   ]
  },
  {
   "cell_type": "code",
   "execution_count": 35,
   "metadata": {},
   "outputs": [
    {
     "name": "stdout",
     "output_type": "stream",
     "text": [
      "Overall R2 score of linear regression model 0.8019242072686796\n",
      "Overall RMSE of linear regression model 276.5534593041332\n"
     ]
    }
   ],
   "source": [
    "\n",
    "print(\"Overall R2 score of linear regression model\", r2_score(y_test,ypredict))\n",
    "print(\"Overall RMSE of linear regression model\", np.sqrt(mean_squared_error(y_test,ypredict)))\n"
   ]
  },
  {
   "cell_type": "code",
   "execution_count": 36,
   "metadata": {},
   "outputs": [
    {
     "name": "stdout",
     "output_type": "stream",
     "text": [
      "Overall R2 score of Decision Tree regression model 0.6478743420122481\n",
      "Overall RMSE of Decision Tree regression model 368.7331892141453\n"
     ]
    }
   ],
   "source": [
    "\n",
    "print(\"Overall R2 score of Decision Tree regression model\", r2_score(y_test,ypredict_DEcsion))\n",
    "print(\"Overall RMSE of Decision Tree regression model\", np.sqrt(mean_squared_error(y_test,ypredict_DEcsion)))"
   ]
  },
  {
   "cell_type": "code",
   "execution_count": 37,
   "metadata": {},
   "outputs": [],
   "source": [
    "import pickle"
   ]
  },
  {
   "cell_type": "code",
   "execution_count": null,
   "metadata": {},
   "outputs": [],
   "source": [
    "# lr.fit(X_train,y_train)\n",
    "\n",
    "# # %% [code]\n",
    "# ypredict=lr.predict(X_test)\n",
    "\n",
    "# # %% [code]\n",
    "# r2_score(ypredict,y_test)"
   ]
  },
  {
   "cell_type": "code",
   "execution_count": null,
   "metadata": {},
   "outputs": [],
   "source": [
    "ypredict"
   ]
  },
  {
   "cell_type": "code",
   "execution_count": 38,
   "metadata": {},
   "outputs": [],
   "source": [
    "pickle.dump(lr, open('Lineak_RealEstate.pkl','wb'))"
   ]
  },
  {
   "cell_type": "code",
   "execution_count": 39,
   "metadata": {},
   "outputs": [],
   "source": [
    "pickle.dump(Decison_R, open('DecisonTree_RealEstate.pkl','wb'))"
   ]
  },
  {
   "cell_type": "code",
   "execution_count": null,
   "metadata": {},
   "outputs": [],
   "source": [
    "import statsmodels.api as sm\n",
    "X_addC = sm.add_constant(x)\n",
    "result = sm.OLS(y, X_addC).fit()\n",
    "\n",
    "print(\"the Rsqured value is \",result.rsquared)\n",
    "\n",
    "print(\"the  Adjusted rsqured value is \",result.rsquared_adj)\n"
   ]
  },
  {
   "cell_type": "code",
   "execution_count": null,
   "metadata": {},
   "outputs": [],
   "source": [
    "from sklearn.metrics import mean_squared_error\n",
    "import math\n",
    "print(\"the mean squared error is \",mean_squared_error(y_test, ypredict))\n",
    "print(\"the mean squared root error is \",math.sqrt(mean_squared_error(y_test, ypredict)))\n"
   ]
  },
  {
   "cell_type": "code",
   "execution_count": null,
   "metadata": {},
   "outputs": [],
   "source": [
    "from sklearn.metrics import mean_absolute_error\n",
    "print(\"the mean abosolute error is\",mean_absolute_error(y_test, ypredict))"
   ]
  },
  {
   "cell_type": "markdown",
   "metadata": {},
   "source": [
    "Final Report \n",
    "\n",
    "WE have performed succesful model-building phase\n",
    "Take aways are: The mean absolute  Error  is 189.37972701412173\n",
    "                the mean squared root error is  269.0010512979105\n",
    "\n",
    "\n",
    "\n",
    "\n",
    "\n",
    "\n",
    "\n"
   ]
  },
  {
   "cell_type": "code",
   "execution_count": null,
   "metadata": {},
   "outputs": [],
   "source": []
  }
 ],
 "metadata": {
  "kernelspec": {
   "display_name": "Python 3",
   "language": "python",
   "name": "python3"
  },
  "language_info": {
   "codemirror_mode": {
    "name": "ipython",
    "version": 3
   },
   "file_extension": ".py",
   "mimetype": "text/x-python",
   "name": "python",
   "nbconvert_exporter": "python",
   "pygments_lexer": "ipython3",
   "version": "3.8.3"
  }
 },
 "nbformat": 4,
 "nbformat_minor": 4
}
